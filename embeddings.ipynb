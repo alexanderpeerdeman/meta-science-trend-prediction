{
 "cells": [
  {
   "cell_type": "code",
   "execution_count": 15,
   "id": "4ed2ac2c",
   "metadata": {},
   "outputs": [],
   "source": [
    "from sentence_transformers import SentenceTransformer\n",
    "\n",
    "import matplotlib.pyplot as plt\n",
    "import pandas as pd\n",
    "import numpy as np\n",
    "import pickle\n",
    "import nltk"
   ]
  },
  {
   "cell_type": "code",
   "execution_count": 2,
   "id": "6d69ef6e",
   "metadata": {},
   "outputs": [
    {
     "data": {
      "text/html": [
       "<div>\n",
       "<style scoped>\n",
       "    .dataframe tbody tr th:only-of-type {\n",
       "        vertical-align: middle;\n",
       "    }\n",
       "\n",
       "    .dataframe tbody tr th {\n",
       "        vertical-align: top;\n",
       "    }\n",
       "\n",
       "    .dataframe thead th {\n",
       "        text-align: right;\n",
       "    }\n",
       "</style>\n",
       "<table border=\"1\" class=\"dataframe\">\n",
       "  <thead>\n",
       "    <tr style=\"text-align: right;\">\n",
       "      <th></th>\n",
       "      <th>url</th>\n",
       "      <th>publisher</th>\n",
       "      <th>address</th>\n",
       "      <th>year</th>\n",
       "      <th>month</th>\n",
       "      <th>editor</th>\n",
       "      <th>title</th>\n",
       "      <th>ENTRYTYPE</th>\n",
       "      <th>ID</th>\n",
       "      <th>pages</th>\n",
       "      <th>...</th>\n",
       "      <th>note</th>\n",
       "      <th>pdf</th>\n",
       "      <th>abstract</th>\n",
       "      <th>semantic_scholar</th>\n",
       "      <th>semantic_scholar_authorIds</th>\n",
       "      <th>semantic_scholar_keywords</th>\n",
       "      <th>cso_syntactic</th>\n",
       "      <th>cso_semantic</th>\n",
       "      <th>cso_union</th>\n",
       "      <th>cso_enhanced</th>\n",
       "    </tr>\n",
       "  </thead>\n",
       "  <tbody>\n",
       "    <tr>\n",
       "      <th>0</th>\n",
       "      <td>https://www.aclweb.org/anthology/2020.acl-main.1</td>\n",
       "      <td>Association for Computational Linguistics</td>\n",
       "      <td>Online</td>\n",
       "      <td>2020</td>\n",
       "      <td>July</td>\n",
       "      <td></td>\n",
       "      <td>Learning to Understand Child-directed and Adul...</td>\n",
       "      <td>inproceedings</td>\n",
       "      <td>gelderloos-etal-2020-learning</td>\n",
       "      <td>1--6</td>\n",
       "      <td>...</td>\n",
       "      <td></td>\n",
       "      <td>2020.acl-main.1.pdf</td>\n",
       "      <td>Speech directed to children differs from adult...</td>\n",
       "      <td>2020.acl-main.1.json</td>\n",
       "      <td>['7805500', '2756960', '103538973']</td>\n",
       "      <td>[1017215, 1588157]</td>\n",
       "      <td>[linguistics, acoustics, language acquisition,...</td>\n",
       "      <td>[speech signals, synthetic speech, linguistics...</td>\n",
       "      <td>[linguistics, automatic speech recognition, ac...</td>\n",
       "      <td>[speech recognition, signal processing, educat...</td>\n",
       "    </tr>\n",
       "    <tr>\n",
       "      <th>1</th>\n",
       "      <td>https://www.aclweb.org/anthology/2020.acl-main.2</td>\n",
       "      <td>Association for Computational Linguistics</td>\n",
       "      <td>Online</td>\n",
       "      <td>2020</td>\n",
       "      <td>July</td>\n",
       "      <td></td>\n",
       "      <td>Predicting Depression in Screening Interviews ...</td>\n",
       "      <td>inproceedings</td>\n",
       "      <td>rinaldi-etal-2020-predicting</td>\n",
       "      <td>7--18</td>\n",
       "      <td>...</td>\n",
       "      <td></td>\n",
       "      <td>2020.acl-main.2.pdf</td>\n",
       "      <td>Despite the pervasiveness of clinical depressi...</td>\n",
       "      <td>2020.acl-main.2.json</td>\n",
       "      <td>['19320780', '2457504', '37202877']</td>\n",
       "      <td>[8505]</td>\n",
       "      <td>[linguistics, pattern languages, psycholinguis...</td>\n",
       "      <td>[latent variable, latent factor, linguistics, ...</td>\n",
       "      <td>[latent factor, linguistics, dialogue, pattern...</td>\n",
       "      <td>[matrix factorizations, argumentation, speech ...</td>\n",
       "    </tr>\n",
       "  </tbody>\n",
       "</table>\n",
       "<p>2 rows × 28 columns</p>\n",
       "</div>"
      ],
      "text/plain": [
       "                                                url  \\\n",
       "0  https://www.aclweb.org/anthology/2020.acl-main.1   \n",
       "1  https://www.aclweb.org/anthology/2020.acl-main.2   \n",
       "\n",
       "                                   publisher address  year month editor  \\\n",
       "0  Association for Computational Linguistics  Online  2020  July          \n",
       "1  Association for Computational Linguistics  Online  2020  July          \n",
       "\n",
       "                                               title      ENTRYTYPE  \\\n",
       "0  Learning to Understand Child-directed and Adul...  inproceedings   \n",
       "1  Predicting Depression in Screening Interviews ...  inproceedings   \n",
       "\n",
       "                              ID  pages  ... note                  pdf  \\\n",
       "0  gelderloos-etal-2020-learning   1--6  ...       2020.acl-main.1.pdf   \n",
       "1   rinaldi-etal-2020-predicting  7--18  ...       2020.acl-main.2.pdf   \n",
       "\n",
       "                                            abstract      semantic_scholar  \\\n",
       "0  Speech directed to children differs from adult...  2020.acl-main.1.json   \n",
       "1  Despite the pervasiveness of clinical depressi...  2020.acl-main.2.json   \n",
       "\n",
       "            semantic_scholar_authorIds semantic_scholar_keywords  \\\n",
       "0  ['7805500', '2756960', '103538973']        [1017215, 1588157]   \n",
       "1  ['19320780', '2457504', '37202877']                    [8505]   \n",
       "\n",
       "                                       cso_syntactic  \\\n",
       "0  [linguistics, acoustics, language acquisition,...   \n",
       "1  [linguistics, pattern languages, psycholinguis...   \n",
       "\n",
       "                                        cso_semantic  \\\n",
       "0  [speech signals, synthetic speech, linguistics...   \n",
       "1  [latent variable, latent factor, linguistics, ...   \n",
       "\n",
       "                                           cso_union  \\\n",
       "0  [linguistics, automatic speech recognition, ac...   \n",
       "1  [latent factor, linguistics, dialogue, pattern...   \n",
       "\n",
       "                                        cso_enhanced  \n",
       "0  [speech recognition, signal processing, educat...  \n",
       "1  [matrix factorizations, argumentation, speech ...  \n",
       "\n",
       "[2 rows x 28 columns]"
      ]
     },
     "execution_count": 2,
     "metadata": {},
     "output_type": "execute_result"
    }
   ],
   "source": [
    "# Load anthology with all information\n",
    "df = pd.read_csv(\"data/anthology_conferences.csv\", sep=\"|\", keep_default_na=False,\n",
    "                 converters={\"semantic_scholar_keywords\":lambda x: x.strip(\"[]\").replace(\"'\", \"\").split(\", \"),\n",
    "                            \"cso_syntactic\":lambda x: x.strip(\"[]\").replace(\"'\", \"\").split(\", \"),\n",
    "                            \"cso_semantic\":lambda x: x.strip(\"[]\").replace(\"'\", \"\").split(\", \"),\n",
    "                            \"cso_union\":lambda x: x.strip(\"[]\").replace(\"'\", \"\").split(\", \"),\n",
    "                            \"cso_enhanced\":lambda x: x.strip(\"[]\").replace(\"'\", \"\").split(\", \")})\n",
    "df[:2]"
   ]
  },
  {
   "cell_type": "code",
   "execution_count": 3,
   "id": "06bf3938",
   "metadata": {},
   "outputs": [],
   "source": [
    "# List of abstracts\n",
    "abstracts = df[\"abstract\"].tolist()\n",
    "# List of titles\n",
    "titles = df[\"title\"].tolist()\n",
    "# List of abstracts concatenated with abstracts\n",
    "titles_abstracts = [titles[i] + \"\\n\" + abstracts[i] for i in range(len(abstracts))]\n",
    "# List of abstracts concatenated with ' [SEP] ' and abstracts\n",
    "titles_sep_abstracts = [titles[i] + \" [SEP] \" + abstracts[i] for i in range(len(abstracts))]"
   ]
  },
  {
   "cell_type": "code",
   "execution_count": 4,
   "id": "b5463e6a",
   "metadata": {},
   "outputs": [
    {
     "name": "stdout",
     "output_type": "stream",
     "text": [
      "Max text length: 30\n"
     ]
    }
   ],
   "source": [
    "# Calculate length distribution titles\n",
    "title_lengths = []\n",
    "max_length = 0\n",
    "for text in titles:\n",
    "    length = len(nltk.word_tokenize(text))\n",
    "    title_lengths.append(length)\n",
    "    if length > max_length:\n",
    "        max_length = length\n",
    "print(\"Max text length:\", max_length)\n",
    "TITLE_SEQ_LENGTH = max_length"
   ]
  },
  {
   "cell_type": "code",
   "execution_count": 5,
   "id": "dc313693",
   "metadata": {},
   "outputs": [
    {
     "data": {
      "image/png": "[encoded data removed]",
      "text/plain": [
       "<Figure size 432x288 with 1 Axes>"
      ]
     },
     "metadata": {
      "needs_background": "light"
     },
     "output_type": "display_data"
    }
   ],
   "source": [
    "plt.hist(title_lengths, log=True)\n",
    "plt.show()"
   ]
  },
  {
   "cell_type": "code",
   "execution_count": 6,
   "id": "4059bc4d",
   "metadata": {},
   "outputs": [
    {
     "name": "stdout",
     "output_type": "stream",
     "text": [
      "Max text length: 4614\n"
     ]
    }
   ],
   "source": [
    "# Calculate length distribution titles + abstracts\n",
    "title_abstract_lengths = []\n",
    "max_length = 0\n",
    "for text in titles_sep_abstracts:\n",
    "    length = len(nltk.word_tokenize(text))\n",
    "    title_abstract_lengths.append(length)\n",
    "    if length > max_length:\n",
    "        max_length = length\n",
    "print(\"Max text length:\", max_length)"
   ]
  },
  {
   "cell_type": "code",
   "execution_count": 7,
   "id": "934322dd",
   "metadata": {},
   "outputs": [
    {
     "data": {
      "image/png": "[encoded data removed]",
      "text/plain": [
       "<Figure size 432x288 with 1 Axes>"
      ]
     },
     "metadata": {
      "needs_background": "light"
     },
     "output_type": "display_data"
    }
   ],
   "source": [
    "plt.hist(title_abstract_lengths, log=True)\n",
    "plt.show()"
   ]
  },
  {
   "cell_type": "code",
   "execution_count": 8,
   "id": "71790cb4",
   "metadata": {},
   "outputs": [],
   "source": [
    "TITLE_ABSTRACT_SEQ_LENGTH = 512"
   ]
  },
  {
   "cell_type": "code",
   "execution_count": 9,
   "id": "3908fa97",
   "metadata": {},
   "outputs": [],
   "source": [
    "# Create doc2vec embeddings\n",
    "def doc2vec(texts, vector_size=300, window=5, workers=6):\n",
    "    documents = [TaggedDocument(simple_preprocess(remove_stopwords(text)), [i]) for i, text in enumerate(texts)]\n",
    "    model = Doc2Vec(documents, vector_size=vector_size, window=window, workers=workers)\n",
    "    \n",
    "    embeddings = []\n",
    "    for text in texts:\n",
    "        embeddings.append(model.infer_vector([text]))\n",
    "    \n",
    "    return embeddings"
   ]
  },
  {
   "cell_type": "code",
   "execution_count": 10,
   "id": "dcb3aa99",
   "metadata": {},
   "outputs": [],
   "source": [
    "# Create sentenceBERT embeddings\n",
    "def sentenceBERT(texts, pretrained='allenai-specter', convert_to_tensor=False, max_seq_length=300):\n",
    "    model = SentenceTransformer(pretrained, device='cuda')\n",
    "    model.max_seq_length = max_seq_length\n",
    "    embeddings = model.encode(texts, convert_to_tensor=convert_to_tensor, show_progress_bar=True)\n",
    "    return embeddings"
   ]
  },
  {
   "cell_type": "code",
   "execution_count": 11,
   "id": "e5926f3f",
   "metadata": {},
   "outputs": [],
   "source": [
    "# Save embeddings with their texts in pickle file\n",
    "def store_embeddings(texts, embeddings, filename='embeddings.pkl'):\n",
    "    with open('data/embeddings/' + filename, \"wb\") as fOut:\n",
    "        pickle.dump({'texts': texts, 'embeddings': embeddings}, fOut, protocol=pickle.HIGHEST_PROTOCOL)"
   ]
  },
  {
   "cell_type": "code",
   "execution_count": 12,
   "id": "4fed100a",
   "metadata": {},
   "outputs": [],
   "source": [
    "# List of pretrained models to create embeddings with\n",
    "bert_pretrained_models = ['paraphrase-distilroberta-base-v2', 'allenai-specter', 'paraphrase-TinyBERT-L6-v2', 'paraphrase-mpnet-base-v2']"
   ]
  },
  {
   "cell_type": "code",
   "execution_count": 13,
   "id": "101f81dd",
   "metadata": {},
   "outputs": [
    {
     "name": "stdout",
     "output_type": "stream",
     "text": [
      "Creating 15713 embeddings of titles for 4 pretrained bert models...\n"
     ]
    },
    {
     "data": {
      "application/vnd.jupyter.widget-view+json": {
       "model_id": "c82bfc9dde434ae9933d7588e43a84e8",
       "version_major": 2,
       "version_minor": 0
      },
      "text/plain": [
       "Batches:   0%|          | 0/492 [00:00<?, ?it/s]"
      ]
     },
     "metadata": {},
     "output_type": "display_data"
    },
    {
     "data": {
      "application/vnd.jupyter.widget-view+json": {
       "model_id": "0aa7442845bd487fa4b0d1ded3d24f5f",
       "version_major": 2,
       "version_minor": 0
      },
      "text/plain": [
       "Batches:   0%|          | 0/492 [00:00<?, ?it/s]"
      ]
     },
     "metadata": {},
     "output_type": "display_data"
    },
    {
     "data": {
      "application/vnd.jupyter.widget-view+json": {
       "model_id": "79aa204bd23e492fb183e08573dd5a75",
       "version_major": 2,
       "version_minor": 0
      },
      "text/plain": [
       "  0%|          | 0.00/249M [00:00<?, ?B/s]"
      ]
     },
     "metadata": {},
     "output_type": "display_data"
    },
    {
     "data": {
      "application/vnd.jupyter.widget-view+json": {
       "model_id": "c0df6a76f898490a8087010864979a59",
       "version_major": 2,
       "version_minor": 0
      },
      "text/plain": [
       "Batches:   0%|          | 0/492 [00:00<?, ?it/s]"
      ]
     },
     "metadata": {},
     "output_type": "display_data"
    },
    {
     "data": {
      "application/vnd.jupyter.widget-view+json": {
       "model_id": "5b2dbc00d9d14d83be46c508ff778875",
       "version_major": 2,
       "version_minor": 0
      },
      "text/plain": [
       "Batches:   0%|          | 0/492 [00:00<?, ?it/s]"
      ]
     },
     "metadata": {},
     "output_type": "display_data"
    }
   ],
   "source": [
    "# Create embeddings only for titles and for all pretrained BERT models\n",
    "print(\"Creating \" + str(len(titles)) + \" embeddings of titles for \" + str(len(bert_pretrained_models)) + \" pretrained bert models...\\n\")\n",
    "\n",
    "for pretrained_model in bert_pretrained_models:\n",
    "    try:\n",
    "        print(pretrained_model)\n",
    "        embeddings_titles = sentenceBERT(titles, pretrained=pretrained_model, max_seq_length=TITLE_SEQ_LENGTH) \n",
    "        store_embeddings(titles, embeddings_titles, filename=pretrained_model + \"_titles.pkl\")\n",
    "    except:\n",
    "        print(\"Could not create embeddings for model '\" + pretrained_model + \"'\")"
   ]
  },
  {
   "cell_type": "code",
   "execution_count": 14,
   "id": "fc9e076e",
   "metadata": {},
   "outputs": [
    {
     "name": "stdout",
     "output_type": "stream",
     "text": [
      "Creating 15713 embeddings of titles+abstracts for 4 pretrained bert models...\n"
     ]
    },
    {
     "data": {
      "application/vnd.jupyter.widget-view+json": {
       "model_id": "1803d35c4495475aad670bd2bc79c577",
       "version_major": 2,
       "version_minor": 0
      },
      "text/plain": [
       "Batches:   0%|          | 0/492 [00:00<?, ?it/s]"
      ]
     },
     "metadata": {},
     "output_type": "display_data"
    },
    {
     "data": {
      "application/vnd.jupyter.widget-view+json": {
       "model_id": "bfa9cc0ae8bb4ec8a58bf5738fd96810",
       "version_major": 2,
       "version_minor": 0
      },
      "text/plain": [
       "Batches:   0%|          | 0/492 [00:00<?, ?it/s]"
      ]
     },
     "metadata": {},
     "output_type": "display_data"
    },
    {
     "data": {
      "application/vnd.jupyter.widget-view+json": {
       "model_id": "f5b5ed2f5fee44b99681a648fabe43ab",
       "version_major": 2,
       "version_minor": 0
      },
      "text/plain": [
       "Batches:   0%|          | 0/492 [00:00<?, ?it/s]"
      ]
     },
     "metadata": {},
     "output_type": "display_data"
    },
    {
     "data": {
      "application/vnd.jupyter.widget-view+json": {
       "model_id": "33a3071f321e4a6a81323e27b394505c",
       "version_major": 2,
       "version_minor": 0
      },
      "text/plain": [
       "Batches:   0%|          | 0/492 [00:00<?, ?it/s]"
      ]
     },
     "metadata": {},
     "output_type": "display_data"
    }
   ],
   "source": [
    "# Create embeddings for titles and abstracts and for all pretrained BERT models\n",
    "print(\"Creating \" + str(len(titles_sep_abstracts)) + \" embeddings of titles+abstracts for \" + str(len(bert_pretrained_models)) + \" pretrained bert models...\\n\")\n",
    "\n",
    "for pretrained_model in bert_pretrained_models:\n",
    "    try:\n",
    "        print(pretrained_model)\n",
    "        embeddings_titles_abstracts = sentenceBERT(titles_sep_abstracts, pretrained=pretrained_model, max_seq_length=TITLE_ABSTRACT_SEQ_LENGTH) \n",
    "        store_embeddings(titles_sep_abstracts, embeddings_titles_abstracts, filename=pretrained_model + \"_titles_abstracts.pkl\")\n",
    "    except:\n",
    "        print(\"Could not create embeddings for model '\" + pretrained_model + \"'\")"
   ]
  },
  {
   "cell_type": "code",
   "execution_count": 32,
   "id": "9168bc93",
   "metadata": {},
   "outputs": [
    {
     "name": "stdout",
     "output_type": "stream",
     "text": [
      "Creating 15713 embeddings of titles+abstracts for 4 pretrained bert models...\n",
      "\n",
      "paraphrase-distilroberta-base-v2\n"
     ]
    },
    {
     "data": {
      "application/vnd.jupyter.widget-view+json": {
       "model_id": "77ef9161bede488c9dca4baa485b1bcc",
       "version_major": 2,
       "version_minor": 0
      },
      "text/plain": [
       "Batches:   0%|          | 0/4066 [00:00<?, ?it/s]"
      ]
     },
     "metadata": {},
     "output_type": "display_data"
    },
    {
     "name": "stdout",
     "output_type": "stream",
     "text": [
      "allenai-specter\n"
     ]
    },
    {
     "data": {
      "application/vnd.jupyter.widget-view+json": {
       "model_id": "994461e9dec14b04a071f4ae49f29ffa",
       "version_major": 2,
       "version_minor": 0
      },
      "text/plain": [
       "Batches:   0%|          | 0/4066 [00:00<?, ?it/s]"
      ]
     },
     "metadata": {},
     "output_type": "display_data"
    },
    {
     "name": "stdout",
     "output_type": "stream",
     "text": [
      "paraphrase-TinyBERT-L6-v2\n"
     ]
    },
    {
     "data": {
      "application/vnd.jupyter.widget-view+json": {
       "model_id": "4bbdf1f252a24134bf7ea0d89bf99b05",
       "version_major": 2,
       "version_minor": 0
      },
      "text/plain": [
       "Batches:   0%|          | 0/4066 [00:00<?, ?it/s]"
      ]
     },
     "metadata": {},
     "output_type": "display_data"
    },
    {
     "name": "stdout",
     "output_type": "stream",
     "text": [
      "paraphrase-mpnet-base-v2\n"
     ]
    },
    {
     "data": {
      "application/vnd.jupyter.widget-view+json": {
       "model_id": "387770b71ba846b4a3912271ac6cec0a",
       "version_major": 2,
       "version_minor": 0
      },
      "text/plain": [
       "Batches:   0%|          | 0/4066 [00:00<?, ?it/s]"
      ]
     },
     "metadata": {},
     "output_type": "display_data"
    }
   ],
   "source": [
    "# Create embeddings for titles and abstracts with averaged embeddings for all sentences and for all pretrained BERT models\n",
    "print(\"Creating \" + str(len(titles_sep_abstracts)) + \" embeddings of titles+abstracts for \" + str(len(bert_pretrained_models)) + \" pretrained bert models...\\n\")\n",
    "\n",
    "for pretrained_model in bert_pretrained_models:\n",
    "    assert(len(titles) == len(abstracts))\n",
    "    \n",
    "    final_embeddings = []\n",
    "    \n",
    "    num_sentences_per_paper = []\n",
    "    \n",
    "    try:\n",
    "        print(pretrained_model)\n",
    "        \n",
    "        all_sentences = []\n",
    "        for i, title in enumerate(titles):\n",
    "            sentences = [title]\n",
    "            sentences.extend(nltk.sent_tokenize(abstracts[i]))\n",
    "            num_sentences_per_paper.append(len(sentences))\n",
    "            if len(sentences) < 1:\n",
    "                print(\"Warning:\", len(sentences))\n",
    "            all_sentences.extend(sentences)\n",
    "            \n",
    "        embeddings = sentenceBERT(all_sentences, pretrained=pretrained_model, max_seq_length=TITLE_ABSTRACT_SEQ_LENGTH)\n",
    "        \n",
    "        for i, _ in enumerate(titles): \n",
    "            current_embeddings = embeddings[:num_sentences_per_paper[i]]\n",
    "            embeddings = embeddings[num_sentences_per_paper[i]:]\n",
    "            \n",
    "            mean_embedding = np.mean(current_embeddings, axis=0)\n",
    "            final_embeddings.append(mean_embedding)\n",
    "            \n",
    "        assert(len(final_embeddings) == len(titles))\n",
    "        store_embeddings(titles_sep_abstracts, np.array(final_embeddings), filename=pretrained_model + \"_titles_abstracts_sent_mean.pkl\")\n",
    "    except:\n",
    "        print(\"Could not create embeddings for model '\" + pretrained_model + \"'\")"
   ]
  },
  {
   "cell_type": "code",
   "execution_count": null,
   "id": "4695257b",
   "metadata": {},
   "outputs": [],
   "source": []
  }
 ],
 "metadata": {
  "kernelspec": {
   "display_name": "Python 3",
   "language": "python",
   "name": "python3"
  },
  "language_info": {
   "codemirror_mode": {
    "name": "ipython",
    "version": 3
   },
   "file_extension": ".py",
   "mimetype": "text/x-python",
   "name": "python",
   "nbconvert_exporter": "python",
   "pygments_lexer": "ipython3",
   "version": "3.8.11"
  }
 },
 "nbformat": 4,
 "nbformat_minor": 5
}
