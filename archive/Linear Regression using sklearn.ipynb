{
 "cells": [
  {
   "cell_type": "markdown",
   "id": "904c7147",
   "metadata": {},
   "source": [
    "# input:\n",
    "\n",
    "- Daten über das Paper:\n",
    "    - Autor(en):\n",
    "        - h-index\n",
    "        - citations bisher\n",
    "        - Wie lange werden Paper im Durchschnitt referenziert (die nächsten 10 Jahre)\n",
    "    - Anzahl der Autoren des Papers"
   ]
  },
  {
   "cell_type": "markdown",
   "id": "e8369871",
   "metadata": {},
   "source": [
    "# output:\n",
    "Citations in Jahres-Bins (erstes Jahr, zweites Jahr, in den nächsten fünf Jahren)"
   ]
  },
  {
   "cell_type": "code",
   "execution_count": null,
   "id": "3018a8d5",
   "metadata": {},
   "outputs": [],
   "source": []
  }
 ],
 "metadata": {
  "kernelspec": {
   "display_name": "Python 3",
   "language": "python",
   "name": "python3"
  },
  "language_info": {
   "codemirror_mode": {
    "name": "ipython",
    "version": 3
   },
   "file_extension": ".py",
   "mimetype": "text/x-python",
   "name": "python",
   "nbconvert_exporter": "python",
   "pygments_lexer": "ipython3",
   "version": "3.9.5"
  }
 },
 "nbformat": 4,
 "nbformat_minor": 5
}
